{
 "cells": [
  {
   "cell_type": "code",
   "execution_count": 1,
   "metadata": {},
   "outputs": [],
   "source": [
    "from __future__ import absolute_import, division\n",
    "from __future__ import print_function, unicode_literals\n",
    "import pints\n",
    "import numpy as np\n",
    "import logging\n",
    "import math"
   ]
  },
  {
   "cell_type": "code",
   "execution_count": 16,
   "metadata": {},
   "outputs": [],
   "source": [
    "\n",
    "class SGD(pints.PopulationBasedOptimiser):\n",
    "    \"\"\"\n",
    "    Finds the best parameters using the SGD method. \n",
    "    SGD stands for Stochastic Gradient Descent.\n",
    "    \"\"\"\n",
    "\n",
    "    def __init__(self, x0, sigma0=None, boundaries=None):\n",
    "        super(SGD, self).__init__(x0, sigma0, boundaries)\n",
    "\n",
    "        # Set initial state\n",
    "        self._running = False\n",
    "        self._ready_for_tell = False\n",
    "\n",
    "        # Best solution found\n",
    "        self._xbest = pints.vector(x0)\n",
    "        self._fbest = float('inf')\n",
    "\n",
    "        # Python logger\n",
    "        self._logger = logging.getLogger(__name__)\n",
    "        self._population_size = 20\n",
    "        \n",
    "    def ask(self):\n",
    "        \"\"\" See :meth:`Optimiser.ask()`. \"\"\"\n",
    "        # Initialise on first call\n",
    "        if not self._running:\n",
    "            self._initialise()\n",
    "\n",
    "        # Ready for tell now\n",
    "        self._ready_for_tell = True\n",
    "      \n",
    "        # New sample with all but one parameter fixed\n",
    "        # Issue, our fbest and xbest are meaning less because we are not exploring on all \n",
    "        # params at the same time.. (isn't a huge issue however)\n",
    "        self._xs = [[0,0]]\n",
    "        self._zs = np.array([np.random.normal(1, 1) \n",
    "                             for i in range(self._population_size)])\n",
    "        for i in range(self._n_parameters):\n",
    "            # Moddify only for one parameter\n",
    "            temp = np.full((self._population_size, self._n_parameters), self._weights)\n",
    "            temp[:,i] *= self._zs\n",
    "            self._xs = np.concatenate((self._xs, temp))\n",
    "        self._xs = self._xs[1:]\n",
    "        \n",
    "        \n",
    "        if self._manual_boundaries:\n",
    "            # Manual boundaries? Then pass only xs that are within bounds\n",
    "            self._user_ids = np.nonzero(\n",
    "                [self._boundaries.check(x) for x in self._xs])\n",
    "            self._user_xs = self._xs[self._user_ids]\n",
    "            if len(self._user_xs) == 0:     # pragma: no cover\n",
    "                self._logger.warning(\n",
    "                    'All points requested by SGD are outside the boundaries.')\n",
    "        else:\n",
    "            self._user_xs = self._xs\n",
    "\n",
    "        # Set as read-only and return\n",
    "        self._user_xs.setflags(write=False)\n",
    "        return self._user_xs\n",
    "\n",
    "    def fbest(self):\n",
    "        \"\"\" See :meth:`Optimiser.fbest()`. \"\"\"\n",
    "        return self._fbest\n",
    "\n",
    "    def _initialise(self):\n",
    "        \"\"\"\n",
    "        Initialises the optimiser for the first iteration.\n",
    "        \"\"\"\n",
    "        assert(not self._running)\n",
    "        \n",
    "        #TODO, make change possible\n",
    "        self._step_size = 0.00000001\n",
    "        \n",
    "        self._manual_boundaries = False\n",
    "        self._boundary_transform = None\n",
    "        if isinstance(self._boundaries, pints.RectangularBoundaries):\n",
    "            self._boundary_transform = pints.TriangleWaveTransform(\n",
    "                self._boundaries)\n",
    "        elif self._boundaries is not None:\n",
    "            self._manual_boundaries = True\n",
    "\n",
    "        self._weights = np.array(self._x0)\n",
    "        \n",
    "        # Update optimiser state\n",
    "        self._running = True\n",
    "\n",
    "    def name(self):\n",
    "        \"\"\" See :meth:`Optimiser.name()`. \"\"\"\n",
    "        return 'Constant Step Stochastic Gradient Descent (SGD)'\n",
    "\n",
    "    def running(self):\n",
    "        \"\"\" See :meth:`Optimiser.running()`. \"\"\"\n",
    "        return self._running\n",
    "\n",
    "    def _suggested_population_size(self):\n",
    "        \"\"\" See :meth:`Optimiser._suggested_population_size(). \"\"\"\n",
    "        return 4 + int(3 * np.log(self._n_parameters))\n",
    "\n",
    "    def tell(self, fx):\n",
    "        \"\"\" See :meth:`Optimiser.tell()`. \"\"\"\n",
    "        print_info = False\n",
    "        if not self._ready_for_tell:\n",
    "            raise Exception('ask() not called before tell()')\n",
    "        self._ready_for_tell = False\n",
    "\n",
    "        \n",
    "        if self._manual_boundaries and len(fx) < self._population_size:\n",
    "            user_fx = fx\n",
    "            fx = np.ones((self._population_size, )) * float('inf')\n",
    "            fx[self._user_ids] = user_fx\n",
    "        \n",
    "        \n",
    "        order = np.argsort(fx)\n",
    "        gradient = self._approx_grad(fx)\n",
    "        \n",
    "        \n",
    "        \n",
    "        if print_info:\n",
    "            print(\"Inputs\", self._user_xs)\n",
    "            print(\"Scores\", fx)\n",
    "            print(\"Grad\", gradient)\n",
    "        \n",
    "        self._weights -= self._step_size * gradient\n",
    "        \n",
    "        if fx[order[0]] < self._fbest:\n",
    "            self._fbest = fx[order[0]]\n",
    "            self._xbest = self._xs[order[0]]\n",
    "    \n",
    "    # This should approximate the gradient. \n",
    "    # We are essentially approximating the partial derivative for each param\n",
    "    def _approx_grad(self, scores):\n",
    "        n = self._n_parameters\n",
    "        p = self._population_size\n",
    "        result = np.zeros(n)\n",
    "        for i in range(n):\n",
    "            for j in range(p):\n",
    "                for k in range(j+1 ,p):\n",
    "                    result[i] += (scores[j + i*p] - scores[k + i*p]) / (self._user_xs[j + i*p][i] - self._user_xs[k + i*p][i])\n",
    "        return result / (p * (p-1)/2)\n",
    "    \n",
    "\n",
    "            \n",
    "    def xbest(self):\n",
    "        \"\"\" See :meth:`Optimiser.xbest()`. \"\"\"\n",
    "        return self._xbest "
   ]
  },
  {
   "cell_type": "code",
   "execution_count": 17,
   "metadata": {},
   "outputs": [],
   "source": [
    "import pints\n",
    "import pints.toy as toy\n",
    "import numpy as np\n",
    "import matplotlib.pyplot as plt\n",
    "\n",
    "# Load a forward model\n",
    "model = toy.LogisticModel()\n",
    "\n",
    "# Create some toy data\n",
    "real_parameters = [0.015, 500]\n",
    "times = np.linspace(0, 1000, 1000)\n",
    "values, gradients = model.simulateS1(real_parameters, times)\n",
    "\n",
    "# Add noise\n",
    "values += np.random.normal(0, 10, values.shape)\n",
    "\n",
    "# Create an object with links to the model and time series\n",
    "my_problem = pints.SingleOutputProblem(model, times, values)\n",
    "\n",
    "# Select a score function\n",
    "score = pints.SumOfSquaresError(my_problem)\n",
    "\n",
    "score_sgd = pints.MeanSquaredError(my_problem)\n",
    "\n",
    "# Select some boundaries\n",
    "boundaries = pints.RectangularBoundaries([0, 200], [1, 1000])\n",
    "\n",
    "# Choose an initial position\n",
    "x0 = [0.03, 700]"
   ]
  },
  {
   "cell_type": "code",
   "execution_count": 42,
   "metadata": {},
   "outputs": [
    {
     "name": "stdout",
     "output_type": "stream",
     "text": [
      "[1.44390743e-02 4.99383617e+02]\n"
     ]
    },
    {
     "data": {
      "image/png": "[encoded data removed]",
      "text/plain": [
       "<Figure size 432x288 with 1 Axes>"
      ]
     },
     "metadata": {
      "needs_background": "light"
     },
     "output_type": "display_data"
    }
   ],
   "source": [
    "# Create an SGD object\n",
    "sgd = SGD(x0, boundaries=boundaries)\n",
    "\n",
    "# Run optimisation\n",
    "best_fx = []\n",
    "for i in range(500):\n",
    "    # Get the next points to evaluate\n",
    "    xs = sgd.ask()\n",
    "    # Evaluate the scores\n",
    "    fxs = [score_sgd(x) for x in xs]\n",
    "    # Pass the result back to XNES\n",
    "    sgd.tell(fxs)\n",
    "    # Store the best score\n",
    "    best_fx.append(sgd.fbest())\n",
    "\n",
    "print(sgd.xbest())\n",
    "# Show how the score converges\n",
    "axes = plt.gca()\n",
    "plt.xlabel('Iteration')\n",
    "plt.ylabel('Score')\n",
    "#axes.set_ylim([-5,1000])\n",
    "plt.plot(best_fx)\n",
    "plt.show()\n",
    "\n"
   ]
  },
  {
   "cell_type": "code",
   "execution_count": 43,
   "metadata": {},
   "outputs": [
    {
     "name": "stdout",
     "output_type": "stream",
     "text": [
      "[1.49861045e-02 5.00194255e+02]\n"
     ]
    },
    {
     "data": {
      "image/png": "[encoded data removed]",
      "text/plain": [
       "<Figure size 432x288 with 1 Axes>"
      ]
     },
     "metadata": {
      "needs_background": "light"
     },
     "output_type": "display_data"
    }
   ],
   "source": [
    "# Create an XNES object\n",
    "xnes = pints.XNES(x0, boundaries=boundaries)\n",
    "\n",
    "# Run optimisation\n",
    "best_fx = []\n",
    "for i in range(100):\n",
    "    # Get the next points to evaluate\n",
    "    xs = xnes.ask()\n",
    "    # Evaluate the scores\n",
    "    fxs = [score_sgd(x) for x in xs]\n",
    "    # Pass the result back to XNES\n",
    "    xnes.tell(fxs)\n",
    "    # Store the best score\n",
    "    best_fx.append(xnes.fbest())\n",
    "\n",
    "# Show how the score converges\n",
    "print(xnes.xbest())\n",
    "plt.figure()\n",
    "axes = plt.gca()\n",
    "#axes.set_ylim([-5,1000])\n",
    "plt.xlabel('Iteration')\n",
    "plt.ylabel('Score')\n",
    "plt.plot(best_fx)\n",
    "plt.show()"
   ]
  },
  {
   "cell_type": "code",
   "execution_count": null,
   "metadata": {},
   "outputs": [],
   "source": []
  }
 ],
 "metadata": {
  "kernelspec": {
   "display_name": "Python 3",
   "language": "python",
   "name": "python3"
  },
  "language_info": {
   "codemirror_mode": {
    "name": "ipython",
    "version": 3
   },
   "file_extension": ".py",
   "mimetype": "text/x-python",
   "name": "python",
   "nbconvert_exporter": "python",
   "pygments_lexer": "ipython3",
   "version": "3.6.8"
  },
  "pycharm": {
   "stem_cell": {
    "cell_type": "raw",
    "source": [],
    "metadata": {
     "collapsed": false
    }
   }
  }
 },
 "nbformat": 4,
 "nbformat_minor": 2
}